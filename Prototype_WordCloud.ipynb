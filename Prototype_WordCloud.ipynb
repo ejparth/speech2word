{
 "cells": [
  {
   "cell_type": "code",
   "execution_count": 23,
   "id": "39f0c2b1-6768-43fd-b465-4f6b6915e62c",
   "metadata": {},
   "outputs": [
    {
     "name": "stdout",
     "output_type": "stream",
     "text": [
      "Collecting textblob\n",
      "  Downloading textblob-0.18.0.post0-py3-none-any.whl.metadata (4.5 kB)\n",
      "Requirement already satisfied: nltk>=3.8 in c:\\users\\aakash saxena\\appdata\\local\\programs\\python\\python312\\lib\\site-packages (from textblob) (3.8.1)\n",
      "Requirement already satisfied: click in c:\\users\\aakash saxena\\appdata\\local\\programs\\python\\python312\\lib\\site-packages (from nltk>=3.8->textblob) (8.1.7)\n",
      "Requirement already satisfied: joblib in c:\\users\\aakash saxena\\appdata\\local\\programs\\python\\python312\\lib\\site-packages (from nltk>=3.8->textblob) (1.3.2)\n",
      "Requirement already satisfied: regex>=2021.8.3 in c:\\users\\aakash saxena\\appdata\\local\\programs\\python\\python312\\lib\\site-packages (from nltk>=3.8->textblob) (2023.12.25)\n",
      "Requirement already satisfied: tqdm in c:\\users\\aakash saxena\\appdata\\local\\programs\\python\\python312\\lib\\site-packages (from nltk>=3.8->textblob) (4.66.2)\n",
      "Requirement already satisfied: colorama in c:\\users\\aakash saxena\\appdata\\local\\programs\\python\\python312\\lib\\site-packages (from click->nltk>=3.8->textblob) (0.4.6)\n",
      "Downloading textblob-0.18.0.post0-py3-none-any.whl (626 kB)\n",
      "   ---------------------------------------- 0.0/626.3 kB ? eta -:--:--\n",
      "    --------------------------------------- 10.2/626.3 kB ? eta -:--:--\n",
      "   ---- ---------------------------------- 71.7/626.3 kB 991.0 kB/s eta 0:00:01\n",
      "   -------------- ------------------------- 225.3/626.3 kB 2.0 MB/s eta 0:00:01\n",
      "   ----------------- ---------------------- 276.5/626.3 kB 2.1 MB/s eta 0:00:01\n",
      "   ---------------------------------- ----- 532.5/626.3 kB 2.8 MB/s eta 0:00:01\n",
      "   ---------------------------------- ----- 532.5/626.3 kB 2.8 MB/s eta 0:00:01\n",
      "   ---------------------------------------- 626.3/626.3 kB 2.5 MB/s eta 0:00:00\n",
      "Installing collected packages: textblob\n",
      "Successfully installed textblob-0.18.0.post0\n"
     ]
    }
   ],
   "source": [
    "!pip install textblob"
   ]
  },
  {
   "cell_type": "code",
   "execution_count": 20,
   "id": "20d94572-7676-409e-bb2b-2bd35dff23c7",
   "metadata": {},
   "outputs": [
    {
     "name": "stdout",
     "output_type": "stream",
     "text": [
      "Requirement already satisfied: Matplotlib in c:\\users\\aakash saxena\\appdata\\local\\programs\\python\\python312\\lib\\site-packages (3.8.2)\n",
      "Requirement already satisfied: contourpy>=1.0.1 in c:\\users\\aakash saxena\\appdata\\local\\programs\\python\\python312\\lib\\site-packages (from Matplotlib) (1.2.0)\n",
      "Requirement already satisfied: cycler>=0.10 in c:\\users\\aakash saxena\\appdata\\local\\programs\\python\\python312\\lib\\site-packages (from Matplotlib) (0.12.1)\n",
      "Requirement already satisfied: fonttools>=4.22.0 in c:\\users\\aakash saxena\\appdata\\local\\programs\\python\\python312\\lib\\site-packages (from Matplotlib) (4.46.0)\n",
      "Requirement already satisfied: kiwisolver>=1.3.1 in c:\\users\\aakash saxena\\appdata\\local\\programs\\python\\python312\\lib\\site-packages (from Matplotlib) (1.4.5)\n",
      "Requirement already satisfied: numpy<2,>=1.21 in c:\\users\\aakash saxena\\appdata\\local\\programs\\python\\python312\\lib\\site-packages (from Matplotlib) (1.26.2)\n",
      "Requirement already satisfied: packaging>=20.0 in c:\\users\\aakash saxena\\appdata\\local\\programs\\python\\python312\\lib\\site-packages (from Matplotlib) (23.2)\n",
      "Requirement already satisfied: pillow>=8 in c:\\users\\aakash saxena\\appdata\\local\\programs\\python\\python312\\lib\\site-packages (from Matplotlib) (10.1.0)\n",
      "Requirement already satisfied: pyparsing>=2.3.1 in c:\\users\\aakash saxena\\appdata\\local\\programs\\python\\python312\\lib\\site-packages (from Matplotlib) (3.1.1)\n",
      "Requirement already satisfied: python-dateutil>=2.7 in c:\\users\\aakash saxena\\appdata\\local\\programs\\python\\python312\\lib\\site-packages (from Matplotlib) (2.8.2)\n",
      "Requirement already satisfied: six>=1.5 in c:\\users\\aakash saxena\\appdata\\local\\programs\\python\\python312\\lib\\site-packages (from python-dateutil>=2.7->Matplotlib) (1.16.0)\n"
     ]
    }
   ],
   "source": [
    "!pip install Matplotlib"
   ]
  },
  {
   "cell_type": "code",
   "execution_count": 18,
   "id": "9216a3e6-f492-4c46-bcca-f68c5e5bb70a",
   "metadata": {},
   "outputs": [
    {
     "name": "stdout",
     "output_type": "stream",
     "text": [
      "Collecting WordCloud\n",
      "  Downloading wordcloud-1.9.3-cp312-cp312-win_amd64.whl.metadata (3.5 kB)\n",
      "Requirement already satisfied: numpy>=1.6.1 in c:\\users\\aakash saxena\\appdata\\local\\programs\\python\\python312\\lib\\site-packages (from WordCloud) (1.26.2)\n",
      "Requirement already satisfied: pillow in c:\\users\\aakash saxena\\appdata\\local\\programs\\python\\python312\\lib\\site-packages (from WordCloud) (10.1.0)\n",
      "Requirement already satisfied: matplotlib in c:\\users\\aakash saxena\\appdata\\local\\programs\\python\\python312\\lib\\site-packages (from WordCloud) (3.8.2)\n",
      "Requirement already satisfied: contourpy>=1.0.1 in c:\\users\\aakash saxena\\appdata\\local\\programs\\python\\python312\\lib\\site-packages (from matplotlib->WordCloud) (1.2.0)\n",
      "Requirement already satisfied: cycler>=0.10 in c:\\users\\aakash saxena\\appdata\\local\\programs\\python\\python312\\lib\\site-packages (from matplotlib->WordCloud) (0.12.1)\n",
      "Requirement already satisfied: fonttools>=4.22.0 in c:\\users\\aakash saxena\\appdata\\local\\programs\\python\\python312\\lib\\site-packages (from matplotlib->WordCloud) (4.46.0)\n",
      "Requirement already satisfied: kiwisolver>=1.3.1 in c:\\users\\aakash saxena\\appdata\\local\\programs\\python\\python312\\lib\\site-packages (from matplotlib->WordCloud) (1.4.5)\n",
      "Requirement already satisfied: packaging>=20.0 in c:\\users\\aakash saxena\\appdata\\local\\programs\\python\\python312\\lib\\site-packages (from matplotlib->WordCloud) (23.2)\n",
      "Requirement already satisfied: pyparsing>=2.3.1 in c:\\users\\aakash saxena\\appdata\\local\\programs\\python\\python312\\lib\\site-packages (from matplotlib->WordCloud) (3.1.1)\n",
      "Requirement already satisfied: python-dateutil>=2.7 in c:\\users\\aakash saxena\\appdata\\local\\programs\\python\\python312\\lib\\site-packages (from matplotlib->WordCloud) (2.8.2)\n",
      "Requirement already satisfied: six>=1.5 in c:\\users\\aakash saxena\\appdata\\local\\programs\\python\\python312\\lib\\site-packages (from python-dateutil>=2.7->matplotlib->WordCloud) (1.16.0)\n",
      "Downloading wordcloud-1.9.3-cp312-cp312-win_amd64.whl (301 kB)\n",
      "   ---------------------------------------- 0.0/301.4 kB ? eta -:--:--\n",
      "   - -------------------------------------- 10.2/301.4 kB ? eta -:--:--\n",
      "   --- ----------------------------------- 30.7/301.4 kB 435.7 kB/s eta 0:00:01\n",
      "   ------- ------------------------------- 61.4/301.4 kB 544.7 kB/s eta 0:00:01\n",
      "   --------------- ---------------------- 122.9/301.4 kB 798.9 kB/s eta 0:00:01\n",
      "   ---------------------------- ----------- 215.0/301.4 kB 1.1 MB/s eta 0:00:01\n",
      "   ---------------------------------------- 301.4/301.4 kB 1.3 MB/s eta 0:00:00\n",
      "Installing collected packages: WordCloud\n",
      "Successfully installed WordCloud-1.9.3\n"
     ]
    }
   ],
   "source": [
    "!pip install WordCloud"
   ]
  },
  {
   "cell_type": "code",
   "execution_count": 11,
   "id": "677a49fe-2d02-4bdb-96fc-a256e7bfd565",
   "metadata": {},
   "outputs": [
    {
     "name": "stdout",
     "output_type": "stream",
     "text": [
      "Collecting pyaudio\n",
      "  Using cached PyAudio-0.2.14-cp312-cp312-win_amd64.whl.metadata (2.7 kB)\n",
      "Using cached PyAudio-0.2.14-cp312-cp312-win_amd64.whl (164 kB)\n",
      "Installing collected packages: pyaudio\n",
      "Successfully installed pyaudio-0.2.14\n"
     ]
    }
   ],
   "source": [
    "!pip install pyaudio"
   ]
  },
  {
   "cell_type": "code",
   "execution_count": 3,
   "id": "574e90d5-5c3b-4718-b1d4-88a0854ef9ad",
   "metadata": {},
   "outputs": [
    {
     "name": "stdout",
     "output_type": "stream",
     "text": [
      "Collecting nltk\n",
      "  Downloading nltk-3.8.1-py3-none-any.whl.metadata (2.8 kB)\n",
      "Requirement already satisfied: click in c:\\users\\aakash saxena\\appdata\\local\\programs\\python\\python312\\lib\\site-packages (from nltk) (8.1.7)\n",
      "Requirement already satisfied: joblib in c:\\users\\aakash saxena\\appdata\\local\\programs\\python\\python312\\lib\\site-packages (from nltk) (1.3.2)\n",
      "Collecting regex>=2021.8.3 (from nltk)\n",
      "  Using cached regex-2023.12.25-cp312-cp312-win_amd64.whl.metadata (41 kB)\n",
      "Collecting tqdm (from nltk)\n",
      "  Downloading tqdm-4.66.2-py3-none-any.whl.metadata (57 kB)\n",
      "     ---------------------------------------- 0.0/57.6 kB ? eta -:--:--\n",
      "     ------------- ------------------------ 20.5/57.6 kB 682.7 kB/s eta 0:00:01\n",
      "     -------------------------------------- 57.6/57.6 kB 763.7 kB/s eta 0:00:00\n",
      "Requirement already satisfied: colorama in c:\\users\\aakash saxena\\appdata\\local\\programs\\python\\python312\\lib\\site-packages (from click->nltk) (0.4.6)\n",
      "Downloading nltk-3.8.1-py3-none-any.whl (1.5 MB)\n",
      "   ---------------------------------------- 0.0/1.5 MB ? eta -:--:--\n",
      "   --- ------------------------------------ 0.1/1.5 MB 3.6 MB/s eta 0:00:01\n",
      "   ------ --------------------------------- 0.3/1.5 MB 3.2 MB/s eta 0:00:01\n",
      "   ------- -------------------------------- 0.3/1.5 MB 2.1 MB/s eta 0:00:01\n",
      "   -------------- ------------------------- 0.5/1.5 MB 3.7 MB/s eta 0:00:01\n",
      "   -------------------- ------------------- 0.8/1.5 MB 4.2 MB/s eta 0:00:01\n",
      "   ----------------------- ---------------- 0.9/1.5 MB 3.4 MB/s eta 0:00:01\n",
      "   ------------------------- -------------- 1.0/1.5 MB 3.4 MB/s eta 0:00:01\n",
      "   ---------------------------------------  1.5/1.5 MB 4.3 MB/s eta 0:00:01\n",
      "   ---------------------------------------- 1.5/1.5 MB 4.2 MB/s eta 0:00:00\n",
      "Using cached regex-2023.12.25-cp312-cp312-win_amd64.whl (268 kB)\n",
      "Downloading tqdm-4.66.2-py3-none-any.whl (78 kB)\n",
      "   ---------------------------------------- 0.0/78.3 kB ? eta -:--:--\n",
      "   ---------------------------------------- 78.3/78.3 kB ? eta 0:00:00\n",
      "Installing collected packages: tqdm, regex, nltk\n",
      "Successfully installed nltk-3.8.1 regex-2023.12.25 tqdm-4.66.2\n"
     ]
    }
   ],
   "source": [
    "!pip install nltk"
   ]
  },
  {
   "cell_type": "code",
   "execution_count": 4,
   "id": "5cb20328-1ca4-4ffe-9ee3-e8b53b2417c3",
   "metadata": {},
   "outputs": [
    {
     "name": "stdout",
     "output_type": "stream",
     "text": [
      "Collecting SpeechRecognition\n",
      "  Using cached SpeechRecognition-3.10.3-py2.py3-none-any.whl.metadata (29 kB)\n",
      "Requirement already satisfied: requests>=2.26.0 in c:\\users\\aakash saxena\\appdata\\local\\programs\\python\\python312\\lib\\site-packages (from SpeechRecognition) (2.31.0)\n",
      "Requirement already satisfied: typing-extensions in c:\\users\\aakash saxena\\appdata\\local\\programs\\python\\python312\\lib\\site-packages (from SpeechRecognition) (4.11.0)\n",
      "Requirement already satisfied: charset-normalizer<4,>=2 in c:\\users\\aakash saxena\\appdata\\local\\programs\\python\\python312\\lib\\site-packages (from requests>=2.26.0->SpeechRecognition) (3.3.2)\n",
      "Requirement already satisfied: idna<4,>=2.5 in c:\\users\\aakash saxena\\appdata\\local\\programs\\python\\python312\\lib\\site-packages (from requests>=2.26.0->SpeechRecognition) (3.6)\n",
      "Requirement already satisfied: urllib3<3,>=1.21.1 in c:\\users\\aakash saxena\\appdata\\local\\programs\\python\\python312\\lib\\site-packages (from requests>=2.26.0->SpeechRecognition) (2.1.0)\n",
      "Requirement already satisfied: certifi>=2017.4.17 in c:\\users\\aakash saxena\\appdata\\local\\programs\\python\\python312\\lib\\site-packages (from requests>=2.26.0->SpeechRecognition) (2023.11.17)\n",
      "Using cached SpeechRecognition-3.10.3-py2.py3-none-any.whl (32.8 MB)\n",
      "Installing collected packages: SpeechRecognition\n",
      "Successfully installed SpeechRecognition-3.10.3\n"
     ]
    }
   ],
   "source": [
    "!pip install SpeechRecognition"
   ]
  },
  {
   "cell_type": "code",
   "execution_count": 24,
   "id": "4ddaf347-91d5-464e-ad96-529c5fd4dcb2",
   "metadata": {},
   "outputs": [],
   "source": [
    "import speech_recognition as sr\n",
    "import nltk\n",
    "from nltk.corpus import stopwords\n",
    "from nltk.tokenize import word_tokenize\n",
    "from nltk.probability import FreqDist\n",
    "from wordcloud import WordCloud\n",
    "import matplotlib.pyplot as plt\n",
    "from textblob import TextBlob\n",
    "\n"
   ]
  },
  {
   "cell_type": "code",
   "execution_count": 6,
   "id": "9f493168-8fe1-482e-a260-b8bd9700718e",
   "metadata": {},
   "outputs": [
    {
     "name": "stderr",
     "output_type": "stream",
     "text": [
      "[nltk_data] Downloading package punkt to C:\\Users\\Aakash\n",
      "[nltk_data]     Saxena\\AppData\\Roaming\\nltk_data...\n",
      "[nltk_data]   Unzipping tokenizers\\punkt.zip.\n",
      "[nltk_data] Downloading package stopwords to C:\\Users\\Aakash\n",
      "[nltk_data]     Saxena\\AppData\\Roaming\\nltk_data...\n",
      "[nltk_data]   Unzipping corpora\\stopwords.zip.\n"
     ]
    },
    {
     "data": {
      "text/plain": [
       "True"
      ]
     },
     "execution_count": 6,
     "metadata": {},
     "output_type": "execute_result"
    }
   ],
   "source": [
    "nltk.download('punkt')\n",
    "nltk.download('stopwords')"
   ]
  },
  {
   "cell_type": "code",
   "execution_count": 39,
   "id": "ec712039-32fe-4e49-b6fe-440b50f64c60",
   "metadata": {},
   "outputs": [
    {
     "name": "stdout",
     "output_type": "stream",
     "text": [
      "Listening...\n",
      "You said : hello guys so welcome to my YouTube channel but this is a bad bad YouTube channel where all sort of rubbish things are\n"
     ]
    }
   ],
   "source": [
    "recognizer = sr.Recognizer()\n",
    "with sr.Microphone() as source:\n",
    "    print(\"Listening...\")\n",
    "    recognizer.adjust_for_ambient_noise(source)\n",
    "    audio = recognizer.listen(source)\n",
    "\n",
    "text = recognizer.recognize_google(audio)\n",
    "print(\"You said :\", text)"
   ]
  },
  {
   "cell_type": "code",
   "execution_count": 40,
   "id": "4f576203-9001-4a50-b05f-5077d2b0f44e",
   "metadata": {},
   "outputs": [
    {
     "name": "stdout",
     "output_type": "stream",
     "text": [
      "hello guys welcome YouTube channel bad bad YouTube channel sort rubbish things\n"
     ]
    }
   ],
   "source": [
    "stop_words = set(stopwords.words('english'))\n",
    "word_tokens = word_tokenize(text)\n",
    "filtered_text = [word for word in word_tokens if word.lower() not in stop_words]\n",
    "text  = ' '.join(filtered_text)\n",
    "print(text)"
   ]
  },
  {
   "cell_type": "code",
   "execution_count": 41,
   "id": "e249a343-b47c-495f-9034-b728b68fe32e",
   "metadata": {},
   "outputs": [
    {
     "name": "stdout",
     "output_type": "stream",
     "text": [
      "Summary:\n",
      "YouTube: 2\n",
      "channel: 2\n",
      "bad: 2\n",
      "hello: 1\n",
      "guys: 1\n"
     ]
    }
   ],
   "source": [
    "# Tokenize the text into words\n",
    "words = word_tokenize(text)\n",
    "# Create a frequency distribution of words\n",
    "freq_dist = FreqDist(words)\n",
    "# Print the most common words\n",
    "print(\"Summary:\")\n",
    "for word, frequency in freq_dist.most_common(5):\n",
    "    print(f\"{word}: {frequency}\")\n",
    "\n"
   ]
  },
  {
   "cell_type": "code",
   "execution_count": 42,
   "id": "5120941a-fe9f-46ed-8959-ec780246890b",
   "metadata": {},
   "outputs": [
    {
     "name": "stdout",
     "output_type": "stream",
     "text": [
      "Sentiment Analysis:\n",
      "Polarity: -0.19999999999999987\n",
      "Subjectivity: 0.7444444444444445\n"
     ]
    }
   ],
   "source": [
    "blob = TextBlob(text)\n",
    "sentiment = blob.sentiment\n",
    "print(\"Sentiment Analysis:\")\n",
    "print(\"Polarity:\", sentiment.polarity)\n",
    "print(\"Subjectivity:\", sentiment.subjectivity)\n",
    "polarity = sentiment.polarity\n",
    "subjectivity = sentiment.subjectivity"
   ]
  },
  {
   "cell_type": "code",
   "execution_count": 43,
   "id": "97959b6c-9288-4d20-a8c4-71650fa5b4c0",
   "metadata": {},
   "outputs": [],
   "source": [
    "def map_sentiment(value):\n",
    "    if value == 0:\n",
    "        return \"Neutral\"\n",
    "    elif 0 < value < 0.5:\n",
    "        return \"Slightly Positive\"\n",
    "    elif value >= 0.5:\n",
    "        return \"Highly Positive\"\n",
    "    elif -0.5 < value < 0:\n",
    "        return \"Slightly Negative\"\n",
    "    else:\n",
    "        return \"Highly Negative\""
   ]
  },
  {
   "cell_type": "code",
   "execution_count": 44,
   "id": "487b2057-36dc-493b-8794-0c94cdbaf20e",
   "metadata": {},
   "outputs": [],
   "source": [
    "def print_sentiment_analysis(polarity, subjectivity):\n",
    "    polarity_sentiment = map_sentiment(polarity)\n",
    "    subjectivity_sentiment = map_sentiment(subjectivity)\n",
    "    \n",
    "    print(\"Polarity Sentiment:\", polarity_sentiment)\n",
    "    print(\"Subjectivity Sentiment:\", subjectivity_sentiment)"
   ]
  },
  {
   "cell_type": "code",
   "execution_count": 45,
   "id": "b3603625-4f4c-4b44-baf6-8174278bf61e",
   "metadata": {},
   "outputs": [
    {
     "name": "stdout",
     "output_type": "stream",
     "text": [
      "Polarity Sentiment: Slightly Negative\n",
      "Subjectivity Sentiment: Highly Positive\n"
     ]
    }
   ],
   "source": [
    "print_sentiment_analysis(polarity, subjectivity)"
   ]
  },
  {
   "cell_type": "code",
   "execution_count": 46,
   "id": "40ee5def-e165-45cf-9534-6bc5723bbc75",
   "metadata": {},
   "outputs": [
    {
     "data": {
      "image/png": "[encoded data removed]",
      "text/plain": [
       "<Figure size 1000x500 with 1 Axes>"
      ]
     },
     "metadata": {},
     "output_type": "display_data"
    }
   ],
   "source": [
    " wordcloud = WordCloud(width=800, height=400, background_color='white',max_font_size=50).generate(text)\n",
    "plt.figure(figsize=(10, 5))\n",
    "plt.imshow(wordcloud, interpolation='bilinear')\n",
    "plt.axis('off')\n",
    "plt.show()"
   ]
  },
  {
   "cell_type": "code",
   "execution_count": null,
   "id": "4ee2d13e-92d5-4c5b-9ea1-1d47d0349655",
   "metadata": {},
   "outputs": [],
   "source": []
  }
 ],
 "metadata": {
  "kernelspec": {
   "display_name": "Python 3 (ipykernel)",
   "language": "python",
   "name": "python3"
  },
  "language_info": {
   "codemirror_mode": {
    "name": "ipython",
    "version": 3
   },
   "file_extension": ".py",
   "mimetype": "text/x-python",
   "name": "python",
   "nbconvert_exporter": "python",
   "pygments_lexer": "ipython3",
   "version": "3.12.1"
  }
 },
 "nbformat": 4,
 "nbformat_minor": 5
}
